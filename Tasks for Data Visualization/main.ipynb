{
 "cells": [
  {
   "cell_type": "markdown",
   "metadata": {},
   "source": [
    "# Muhammad Sami\n",
    "## Roll no: 333185"
   ]
  },
  {
   "cell_type": "code",
   "execution_count": 155,
   "metadata": {},
   "outputs": [],
   "source": [
    "import pandas as pd\n",
    "import numpy as np\n",
    "import matplotlib.pyplot as plt\n",
    "import seaborn as sns"
   ]
  },
  {
   "cell_type": "markdown",
   "metadata": {},
   "source": [
    "## Task 1: Load and Display Data"
   ]
  },
  {
   "cell_type": "code",
   "execution_count": null,
   "metadata": {},
   "outputs": [
    {
     "ename": "",
     "evalue": "",
     "output_type": "error",
     "traceback": [
      "\u001b[1;31mRunning cells with 'Python 3.12.2' requires the ipykernel package.\n",
      "\u001b[1;31mRun the following command to install 'ipykernel' into the Python environment. \n",
      "\u001b[1;31mCommand: 'c:/Users/me/AppData/Local/Programs/Python/Python312/python.exe -m pip install ipykernel -U --user --force-reinstall'"
     ]
    }
   ],
   "source": [
    "df = pd.read_csv('covid_19_country_wise_latest.csv')\n",
    "\n",
    "print(\"Dataset loaded successfully.\")\n",
    "\n",
    "# Display the first 5 rows of the dataset\n",
    "print(\"\\nFirst 5 rows of the dataset:\")\n",
    "print(df.head())"
   ]
  },
  {
   "cell_type": "markdown",
   "metadata": {},
   "source": [
    "## Task 2: Set the Dataset index to Unnamed: 0\n"
   ]
  },
  {
   "cell_type": "code",
   "execution_count": 157,
   "metadata": {},
   "outputs": [
    {
     "name": "stdout",
     "output_type": "stream",
     "text": [
      "Dataset with Unnamed: 0 as index:\n",
      "           Country/Region  Confirmed Deaths  Recovered  Active  New cases  \\\n",
      "Unnamed: 0                                                                  \n",
      "0             Afghanistan      36263   1269      25198    9796      106.0   \n",
      "1                 Albania       4880    144       2745    1991      117.0   \n",
      "2                 Algeria      27973   1163      18837    7973      616.0   \n",
      "3                 Andorra        907     52        803      52       10.0   \n",
      "4                  Angola        950     41        242     667       18.0   \n",
      "\n",
      "            New deaths  New recovered  Deaths / 100 Cases  \\\n",
      "Unnamed: 0                                                  \n",
      "0                 10.0             18                3.50   \n",
      "1                  6.0             63                2.95   \n",
      "2                  8.0            749                4.16   \n",
      "3                  0.0              0                5.73   \n",
      "4                  1.0              0                4.32   \n",
      "\n",
      "            Recovered / 100 Cases  Deaths / 100 Recovered  \\\n",
      "Unnamed: 0                                                  \n",
      "0                           69.49                    5.04   \n",
      "1                           56.25                    5.25   \n",
      "2                           67.34                    6.17   \n",
      "3                           88.53                    6.48   \n",
      "4                           25.47                   16.94   \n",
      "\n",
      "            Confirmed last week  1 week change  1 week % increase  \\\n",
      "Unnamed: 0                                                          \n",
      "0                         35526            737               2.07   \n",
      "1                          4171            709              17.00   \n",
      "2                         23691           4282              18.07   \n",
      "3                           884             23               2.60   \n",
      "4                           749            201              26.84   \n",
      "\n",
      "                       WHO Region  \n",
      "Unnamed: 0                         \n",
      "0           Eastern Mediterranean  \n",
      "1                          Europe  \n",
      "2                          Africa  \n",
      "3                          Europe  \n",
      "4                          Africa  \n"
     ]
    }
   ],
   "source": [
    "df.set_index('Unnamed: 0', inplace=True)\n",
    "\n",
    "print(\"Dataset with Unnamed: 0 as index:\")\n",
    "\n",
    "print(df.head())"
   ]
  },
  {
   "cell_type": "markdown",
   "metadata": {},
   "source": [
    "##  Task 3: Replace the index column name with 'index'"
   ]
  },
  {
   "cell_type": "code",
   "execution_count": 158,
   "metadata": {},
   "outputs": [
    {
     "name": "stdout",
     "output_type": "stream",
     "text": [
      "Dataset with index as index name:\n",
      "      Country/Region  Confirmed Deaths  Recovered  Active  New cases  \\\n",
      "index                                                                  \n",
      "0        Afghanistan      36263   1269      25198    9796      106.0   \n",
      "1            Albania       4880    144       2745    1991      117.0   \n",
      "2            Algeria      27973   1163      18837    7973      616.0   \n",
      "3            Andorra        907     52        803      52       10.0   \n",
      "4             Angola        950     41        242     667       18.0   \n",
      "\n",
      "       New deaths  New recovered  Deaths / 100 Cases  Recovered / 100 Cases  \\\n",
      "index                                                                         \n",
      "0            10.0             18                3.50                  69.49   \n",
      "1             6.0             63                2.95                  56.25   \n",
      "2             8.0            749                4.16                  67.34   \n",
      "3             0.0              0                5.73                  88.53   \n",
      "4             1.0              0                4.32                  25.47   \n",
      "\n",
      "       Deaths / 100 Recovered  Confirmed last week  1 week change  \\\n",
      "index                                                               \n",
      "0                        5.04                35526            737   \n",
      "1                        5.25                 4171            709   \n",
      "2                        6.17                23691           4282   \n",
      "3                        6.48                  884             23   \n",
      "4                       16.94                  749            201   \n",
      "\n",
      "       1 week % increase             WHO Region  \n",
      "index                                            \n",
      "0                   2.07  Eastern Mediterranean  \n",
      "1                  17.00                 Europe  \n",
      "2                  18.07                 Africa  \n",
      "3                   2.60                 Europe  \n",
      "4                  26.84                 Africa  \n"
     ]
    }
   ],
   "source": [
    "df.index.name = 'index'\n",
    "print(\"Dataset with index as index name:\")\n",
    "print(df.head())"
   ]
  },
  {
   "cell_type": "markdown",
   "metadata": {},
   "source": [
    "## Task 4: Create Function to replace whitespace with underscore"
   ]
  },
  {
   "cell_type": "code",
   "execution_count": 159,
   "metadata": {},
   "outputs": [
    {
     "name": "stdout",
     "output_type": "stream",
     "text": [
      "      Country/Region  Confirmed Deaths  Recovered  Active  New_cases  \\\n",
      "index                                                                  \n",
      "0        Afghanistan      36263   1269      25198    9796      106.0   \n",
      "1            Albania       4880    144       2745    1991      117.0   \n",
      "2            Algeria      27973   1163      18837    7973      616.0   \n",
      "3            Andorra        907     52        803      52       10.0   \n",
      "4             Angola        950     41        242     667       18.0   \n",
      "\n",
      "       New_deaths  New_recovered  Deaths_/_100_Cases  Recovered_/_100_Cases  \\\n",
      "index                                                                         \n",
      "0            10.0             18                3.50                  69.49   \n",
      "1             6.0             63                2.95                  56.25   \n",
      "2             8.0            749                4.16                  67.34   \n",
      "3             0.0              0                5.73                  88.53   \n",
      "4             1.0              0                4.32                  25.47   \n",
      "\n",
      "       Deaths_/_100_Recovered  Confirmed_last_week  1_week_change  \\\n",
      "index                                                               \n",
      "0                        5.04                35526            737   \n",
      "1                        5.25                 4171            709   \n",
      "2                        6.17                23691           4282   \n",
      "3                        6.48                  884             23   \n",
      "4                       16.94                  749            201   \n",
      "\n",
      "       1_week_%_increase             WHO_Region  \n",
      "index                                            \n",
      "0                   2.07  Eastern Mediterranean  \n",
      "1                  17.00                 Europe  \n",
      "2                  18.07                 Africa  \n",
      "3                   2.60                 Europe  \n",
      "4                  26.84                 Africa  \n"
     ]
    }
   ],
   "source": [
    "\n",
    "def replace_whitespace_with_underscore(dataframe):\n",
    "    # Create a copy of columns\n",
    "    new_columns = []\n",
    "    for col in dataframe.columns:\n",
    "        # Replace whitespace with underscore\n",
    "        new_col = col.replace(' ', '_')\n",
    "        new_columns.append(new_col)\n",
    "    \n",
    "    dataframe.columns = new_columns\n",
    "    return dataframe\n",
    "\n",
    "df = replace_whitespace_with_underscore(df)\n",
    "print(df.head())"
   ]
  },
  {
   "cell_type": "markdown",
   "metadata": {},
   "source": [
    "## Task 5: Check Basic Information"
   ]
  },
  {
   "cell_type": "code",
   "execution_count": 160,
   "metadata": {},
   "outputs": [
    {
     "name": "stdout",
     "output_type": "stream",
     "text": [
      "Column names:\n",
      "['Country/Region', 'Confirmed', 'Deaths', 'Recovered', 'Active', 'New_cases', 'New_deaths', 'New_recovered', 'Deaths_/_100_Cases', 'Recovered_/_100_Cases', 'Deaths_/_100_Recovered', 'Confirmed_last_week', '1_week_change', '1_week_%_increase', 'WHO_Region']\n",
      "\n",
      "Data types:\n",
      "Country/Region             object\n",
      "Confirmed                   int64\n",
      "Deaths                     object\n",
      "Recovered                   int64\n",
      "Active                      int64\n",
      "New_cases                 float64\n",
      "New_deaths                float64\n",
      "New_recovered               int64\n",
      "Deaths_/_100_Cases        float64\n",
      "Recovered_/_100_Cases     float64\n",
      "Deaths_/_100_Recovered    float64\n",
      "Confirmed_last_week         int64\n",
      "1_week_change               int64\n",
      "1_week_%_increase         float64\n",
      "WHO_Region                 object\n",
      "dtype: object\n",
      "\n",
      "Missing values:\n",
      "Country/Region             0\n",
      "Confirmed                  0\n",
      "Deaths                     0\n",
      "Recovered                  0\n",
      "Active                     0\n",
      "New_cases                 10\n",
      "New_deaths                10\n",
      "New_recovered              0\n",
      "Deaths_/_100_Cases         0\n",
      "Recovered_/_100_Cases      0\n",
      "Deaths_/_100_Recovered     0\n",
      "Confirmed_last_week        0\n",
      "1_week_change              0\n",
      "1_week_%_increase          0\n",
      "WHO_Region                 0\n",
      "dtype: int64\n"
     ]
    }
   ],
   "source": [
    "print(\"Column names:\")\n",
    "print(df.columns.tolist())\n",
    "print(\"\\nData types:\")\n",
    "print(df.dtypes)\n",
    "print(\"\\nMissing values:\")\n",
    "print(df.isnull().sum())"
   ]
  },
  {
   "cell_type": "markdown",
   "metadata": {},
   "source": [
    "## Task 6: Fill NaN values with the mean of the columns"
   ]
  },
  {
   "cell_type": "code",
   "execution_count": 161,
   "metadata": {},
   "outputs": [
    {
     "name": "stdout",
     "output_type": "stream",
     "text": [
      "Numeric columns:\n",
      "['Confirmed', 'Recovered', 'Active', 'New_cases', 'New_deaths', 'New_recovered', 'Deaths_/_100_Cases', 'Recovered_/_100_Cases', 'Deaths_/_100_Recovered', 'Confirmed_last_week', '1_week_change', '1_week_%_increase']\n",
      "Dataset with NaN values filled with mean:\n",
      "Country/Region            0\n",
      "Confirmed                 0\n",
      "Deaths                    0\n",
      "Recovered                 0\n",
      "Active                    0\n",
      "New_cases                 0\n",
      "New_deaths                0\n",
      "New_recovered             0\n",
      "Deaths_/_100_Cases        0\n",
      "Recovered_/_100_Cases     0\n",
      "Deaths_/_100_Recovered    0\n",
      "Confirmed_last_week       0\n",
      "1_week_change             0\n",
      "1_week_%_increase         0\n",
      "WHO_Region                0\n",
      "dtype: int64\n"
     ]
    },
    {
     "name": "stderr",
     "output_type": "stream",
     "text": [
      "C:\\Users\\User\\AppData\\Local\\Temp\\ipykernel_6804\\944013475.py:8: FutureWarning: A value is trying to be set on a copy of a DataFrame or Series through chained assignment using an inplace method.\n",
      "The behavior will change in pandas 3.0. This inplace method will never work because the intermediate object on which we are setting values always behaves as a copy.\n",
      "\n",
      "For example, when doing 'df[col].method(value, inplace=True)', try using 'df.method({col: value}, inplace=True)' or df[col] = df[col].method(value) instead, to perform the operation inplace on the original object.\n",
      "\n",
      "\n",
      "  df[col].fillna(df[col].mean(), inplace=True)\n"
     ]
    }
   ],
   "source": [
    "\n",
    "# First, let's identify numeric columns\n",
    "numeric_columns = df.select_dtypes(include=[np.number]).columns.tolist()\n",
    "print(\"Numeric columns:\")\n",
    "print(numeric_columns)\n",
    "\n",
    "# Fill NaN values with mean for numeric columns\n",
    "for col in numeric_columns:\n",
    "    df[col].fillna(df[col].mean(), inplace=True)\n",
    "\n",
    "print(\"Dataset with NaN values filled with mean:\")\n",
    "print(df.isnull().sum())"
   ]
  },
  {
   "cell_type": "markdown",
   "metadata": {},
   "source": [
    "## Task 7: Count the number of unique countries"
   ]
  },
  {
   "cell_type": "code",
   "execution_count": 162,
   "metadata": {},
   "outputs": [
    {
     "name": "stdout",
     "output_type": "stream",
     "text": [
      "Number of unique countries in the dataset: 187\n"
     ]
    }
   ],
   "source": [
    "# Let's identify categorical columns\n",
    "unique_countries_count = df['Country/Region'].nunique()\n",
    "print(f\"Number of unique countries in the dataset: {unique_countries_count}\")"
   ]
  },
  {
   "cell_type": "markdown",
   "metadata": {},
   "source": [
    "## Task 8: Check for duplicate country entries and remove if needed"
   ]
  },
  {
   "cell_type": "code",
   "execution_count": 163,
   "metadata": {},
   "outputs": [
    {
     "name": "stdout",
     "output_type": "stream",
     "text": [
      "Number of duplicate country entries: 0\n",
      "No duplicates found.\n"
     ]
    }
   ],
   "source": [
    "# Check for duplicates\n",
    "duplicates = df['Country/Region'].duplicated().sum()\n",
    "print(f\"Number of duplicate country entries: {duplicates}\")\n",
    "\n",
    "if duplicates > 0:\n",
    "    df.drop_duplicates(subset=['Country/Region'], keep='first', inplace=True)\n",
    "    print(\"Duplicates removed.\")\n",
    "else:\n",
    "    print(\"No duplicates found.\")"
   ]
  },
  {
   "cell_type": "markdown",
   "metadata": {},
   "source": [
    "## Task 9: Find the mean, median, and standard deviation of total cases"
   ]
  },
  {
   "cell_type": "code",
   "execution_count": 164,
   "metadata": {},
   "outputs": [
    {
     "name": "stdout",
     "output_type": "stream",
     "text": [
      "Total Cases - Mean: 88130.94\n",
      "Total Cases - Median: 5059.00\n",
      "Total Cases - Standard Deviation: 383318.66\n"
     ]
    }
   ],
   "source": [
    "\n",
    "total_cases_mean = df['Confirmed'].mean()\n",
    "total_cases_median = df['Confirmed'].median()\n",
    "total_cases_std = df['Confirmed'].std()\n",
    "\n",
    "print(f\"Total Cases - Mean: {total_cases_mean:.2f}\")\n",
    "print(f\"Total Cases - Median: {total_cases_median:.2f}\")\n",
    "print(f\"Total Cases - Standard Deviation: {total_cases_std:.2f}\")"
   ]
  },
  {
   "cell_type": "markdown",
   "metadata": {},
   "source": [
    " ## Task 10: Find string in Deaths column and replace with mean"
   ]
  },
  {
   "cell_type": "code",
   "execution_count": 165,
   "metadata": {},
   "outputs": [
    {
     "name": "stdout",
     "output_type": "stream",
     "text": [
      "Unique values in Deaths column:\n",
      "['1269' '144' '1163' '52' '41' '3' '3059' '711' '167' '713' '423' '11'\n",
      " '141' '2965' '7' '538' '9822' '2' '35' '0' '2647' '294' '87618' '347'\n",
      " '53' '6' '1' '22' '391' '8944' '59' '75' '9187' '4656' '8777' '54' '208'\n",
      " '115' '96' '139' '87' '19' '373' '613' '58' '1083' '5532' '4652' '408'\n",
      " '51' '69' '34' '228' '329' '30212' '49' '8' '16' '9125' '168' '202'\n",
      " '1761' '45' '26' '20' '158' '1166' '596' '10' '33408' '4838' '15912'\n",
      " '4458' '1764' '474' '35112' '998' '585' '285' '185' '438' '1301' '31'\n",
      " '12' '72' '64' '80' '112' '91' '99' '124' '15' '9' '156' '44022' '748'\n",
      " '4' '316' '48' '6160' '108' '860' '466' '255' '393' '5842' '1322' '43'\n",
      " '18418' '1945' '1676' '1719' '165' '2206' '13334' '5' '42' '14' '2760'\n",
      " '194' '543' '66' '27' '28' '116' '93' '7067' '300' '46' '28432' '720'\n",
      " '24' '5700' '1978' '40' '60' '21' '18' '50' '5630' '148011' '1636' '345'\n",
      " '45844' '121' '146' '78' '483' '140' 'non']\n",
      "String values found at indices: [0, 1, 2, 3, 4, 5, 6, 7, 8, 9, 10, 11, 12, 13, 14, 15, 16, 17, 18, 19, 20, 21, 22, 23, 24, 25, 26, 27, 28, 29, 30, 31, 32, 33, 34, 35, 36, 37, 38, 39, 40, 41, 42, 43, 44, 45, 46, 47, 48, 49, 50, 51, 52, 53, 54, 55, 56, 57, 58, 59, 60, 61, 62, 63, 64, 65, 66, 67, 68, 69, 70, 71, 72, 73, 74, 75, 76, 77, 78, 79, 80, 81, 82, 83, 84, 85, 86, 87, 88, 89, 90, 91, 92, 93, 94, 95, 96, 97, 98, 99, 100, 101, 102, 103, 104, 105, 106, 107, 108, 109, 110, 111, 112, 113, 114, 115, 116, 117, 118, 119, 120, 121, 122, 123, 124, 125, 126, 127, 128, 129, 130, 131, 132, 133, 134, 135, 136, 137, 138, 139, 140, 141, 142, 143, 144, 145, 146, 147, 148, 149, 150, 151, 152, 153, 154, 155, 156, 157, 158, 159, 160, 161, 162, 163, 164, 165, 166, 167, 168, 169, 170, 171, 172, 173, 174, 175, 176, 177, 178, 179, 180, 181, 182, 183, 184, 185, 186]\n",
      "Replaced string values with mean: 3516.13\n"
     ]
    }
   ],
   "source": [
    "\n",
    "print(\"Unique values in Deaths column:\")\n",
    "print(df['Deaths'].unique())\n",
    "\n",
    "# Finding the string values in Deaths column\n",
    "string_mask = df['Deaths'].apply(lambda x: isinstance(x, str))\n",
    "string_indices = df[string_mask].index.tolist()\n",
    "print(f\"String values found at indices: {string_indices}\")\n",
    "\n",
    "if len(string_indices) > 0:\n",
    "    # Calculate mean of Death column (excluding string values)\n",
    "    numeric_deaths = pd.to_numeric(df['Deaths'], errors='coerce')\n",
    "    deaths_mean = numeric_deaths.mean()\n",
    "    \n",
    "    # Replace string values with mean\n",
    "    df.loc[string_mask, 'Deaths'] = deaths_mean\n",
    "    print(f\"Replaced string values with mean: {deaths_mean:.2f}\")\n",
    "else:\n",
    "    print(\"No string values found in Deaths column.\")"
   ]
  },
  {
   "cell_type": "markdown",
   "metadata": {},
   "source": [
    "## Task 11: Change the datatype of Deaths column"
   ]
  },
  {
   "cell_type": "code",
   "execution_count": 166,
   "metadata": {},
   "outputs": [
    {
     "name": "stdout",
     "output_type": "stream",
     "text": [
      "Deaths column datatype after conversion:\n",
      "float64\n"
     ]
    }
   ],
   "source": [
    "\n",
    "# Convert Deaths column to numeric\n",
    "df['Deaths'] = pd.to_numeric(df['Deaths'], errors='coerce')\n",
    "print(\"Deaths column datatype after conversion:\")\n",
    "print(df['Deaths'].dtype)"
   ]
  },
  {
   "cell_type": "markdown",
   "metadata": {},
   "source": [
    "## Task 12: Calculate total number of Death and Recovery all over the world"
   ]
  },
  {
   "cell_type": "code",
   "execution_count": 168,
   "metadata": {},
   "outputs": [
    {
     "name": "stdout",
     "output_type": "stream",
     "text": [
      "Total Deaths worldwide: 657,516\n",
      "Total Recoveries worldwide: 9,468,087\n"
     ]
    }
   ],
   "source": [
    "\n",
    "total_deaths = df['Deaths'].sum()\n",
    "total_recoveries = df['Recovered'].sum()\n",
    "print(f\"Total Deaths worldwide: {total_deaths:,.0f}\")\n",
    "print(f\"Total Recoveries worldwide: {total_recoveries:,.0f}\")"
   ]
  },
  {
   "cell_type": "markdown",
   "metadata": {},
   "source": [
    "## Task 13: How many countries have more than 1 million total cases"
   ]
  },
  {
   "cell_type": "code",
   "execution_count": 169,
   "metadata": {},
   "outputs": [
    {
     "name": "stdout",
     "output_type": "stream",
     "text": [
      "Number of countries with more than 1 million cases: 3\n",
      "These countries are:\n",
      "- Brazil\n",
      "- India\n",
      "- US\n"
     ]
    }
   ],
   "source": [
    "\n",
    "countries_with_million_cases = df[df['Confirmed'] > 1000000]['Country/Region'].tolist()\n",
    "print(f\"Number of countries with more than 1 million cases: {len(countries_with_million_cases)}\")\n",
    "if len(countries_with_million_cases) > 0:\n",
    "    print(\"These countries are:\")\n",
    "    for country in countries_with_million_cases:\n",
    "        print(f\"- {country}\")"
   ]
  },
  {
   "cell_type": "markdown",
   "metadata": {},
   "source": [
    "## Task 14: Which countries have a recovery rate above 95%"
   ]
  },
  {
   "cell_type": "code",
   "execution_count": 170,
   "metadata": {},
   "outputs": [
    {
     "name": "stdout",
     "output_type": "stream",
     "text": [
      "Number of countries with recovery rate > 95%: 12\n",
      "These countries are:\n",
      "- Brunei: 97.87%\n",
      "- Djibouti: 98.38%\n",
      "- Dominica: 100.00%\n",
      "- Grenada: 100.00%\n",
      "- Holy See: 100.00%\n",
      "- Iceland: 98.33%\n",
      "- Malaysia: 96.60%\n",
      "- Mauritius: 96.51%\n",
      "- New Zealand: 97.24%\n",
      "- Norway: 95.84%\n",
      "- Qatar: 97.02%\n",
      "- Taiwan*: 95.24%\n"
     ]
    }
   ],
   "source": [
    "\n",
    "df['Recovery_Rate'] = (df['Recovered'] / df['Confirmed']) * 100\n",
    "high_recovery_countries = df[df['Recovery_Rate'] > 95]['Country/Region'].tolist()\n",
    "print(f\"Number of countries with recovery rate > 95%: {len(high_recovery_countries)}\")\n",
    "if len(high_recovery_countries) > 0:\n",
    "    print(\"These countries are:\")\n",
    "    for country in high_recovery_countries:\n",
    "        recovery_rate = df.loc[df['Country/Region'] == country, 'Recovery_Rate'].values[0]\n",
    "        print(f\"- {country}: {recovery_rate:.2f}%\")"
   ]
  },
  {
   "cell_type": "markdown",
   "metadata": {},
   "source": [
    "## Task 15: Drop columns WHO_Region and Confirmed"
   ]
  },
  {
   "cell_type": "code",
   "execution_count": 171,
   "metadata": {},
   "outputs": [
    {
     "name": "stdout",
     "output_type": "stream",
     "text": [
      "Columns after dropping WHO_Region and Confirmed:\n",
      "['Country/Region', 'Deaths', 'Recovered', 'Active', 'New_cases', 'New_deaths', 'New_recovered', 'Deaths_/_100_Cases', 'Recovered_/_100_Cases', 'Deaths_/_100_Recovered', 'Confirmed_last_week', '1_week_change', '1_week_%_increase', 'Recovery_Rate']\n"
     ]
    }
   ],
   "source": [
    "df.drop(['WHO_Region', 'Confirmed'], axis=1, inplace=True)\n",
    "print(\"Columns after dropping WHO_Region and Confirmed:\")\n",
    "print(df.columns.tolist())"
   ]
  },
  {
   "cell_type": "markdown",
   "metadata": {},
   "source": [
    "## Task 16: Find the Country with the Max Deaths"
   ]
  },
  {
   "cell_type": "code",
   "execution_count": 172,
   "metadata": {},
   "outputs": [
    {
     "name": "stdout",
     "output_type": "stream",
     "text": [
      "Country with maximum deaths: Afghanistan\n",
      "Number of deaths: 3,516\n"
     ]
    }
   ],
   "source": [
    "country_with_max_deaths = df.loc[df['Deaths'].idxmax(), 'Country/Region']\n",
    "max_deaths = df['Deaths'].max()\n",
    "print(f\"Country with maximum deaths: {country_with_max_deaths}\")\n",
    "print(f\"Number of deaths: {max_deaths:,.0f}\")"
   ]
  },
  {
   "cell_type": "markdown",
   "metadata": {},
   "source": [
    "## Task 17: Sort Countries by Deaths (Descending Order)"
   ]
  },
  {
   "cell_type": "code",
   "execution_count": 173,
   "metadata": {},
   "outputs": [
    {
     "name": "stdout",
     "output_type": "stream",
     "text": [
      "Top 10 countries by deaths:\n",
      "    Country/Region       Deaths\n",
      "0      Afghanistan  3516.129032\n",
      "1         Pakistan  3516.129032\n",
      "2            Nepal  3516.129032\n",
      "3      Netherlands  3516.129032\n",
      "4      New Zealand  3516.129032\n",
      "5        Nicaragua  3516.129032\n",
      "6            Niger  3516.129032\n",
      "7          Nigeria  3516.129032\n",
      "8  North Macedonia  3516.129032\n",
      "9           Norway  3516.129032\n"
     ]
    }
   ],
   "source": [
    "\n",
    "sorted_by_deaths = df.sort_values(by='Deaths', ascending=False).reset_index(drop=True)\n",
    "print(\"Top 10 countries by deaths:\")\n",
    "print(sorted_by_deaths[['Country/Region', 'Deaths']].head(10))"
   ]
  },
  {
   "cell_type": "markdown",
   "metadata": {},
   "source": [
    "## Task 18: Make new column Total_cases that have a sum of Deaths, Recovered, Active"
   ]
  },
  {
   "cell_type": "code",
   "execution_count": 174,
   "metadata": {},
   "outputs": [
    {
     "name": "stdout",
     "output_type": "stream",
     "text": [
      "Dataset with new Total_cases column:\n",
      "      Country/Region       Deaths  Recovered  Active   Total_cases\n",
      "index                                                             \n",
      "0        Afghanistan  3516.129032      25198    9796  38510.129032\n",
      "1            Albania  3516.129032       2745    1991   8252.129032\n",
      "2            Algeria  3516.129032      18837    7973  30326.129032\n",
      "3            Andorra  3516.129032        803      52   4371.129032\n",
      "4             Angola  3516.129032        242     667   4425.129032\n"
     ]
    }
   ],
   "source": [
    "\n",
    "df['Total_cases'] = df['Deaths'] + df['Recovered'] + df['Active']\n",
    "print(\"Dataset with new Total_cases column:\")\n",
    "print(df[['Country/Region', 'Deaths', 'Recovered', 'Active', 'Total_cases']].head())"
   ]
  },
  {
   "cell_type": "markdown",
   "metadata": {},
   "source": [
    "## Task 19: Calculate Death_Rate for Each Country"
   ]
  },
  {
   "cell_type": "code",
   "execution_count": 175,
   "metadata": {},
   "outputs": [
    {
     "name": "stdout",
     "output_type": "stream",
     "text": [
      "Dataset with Death_Rate column:\n",
      "      Country/Region       Deaths   Total_cases  Death_Rate\n",
      "index                                                      \n",
      "0        Afghanistan  3516.129032  38510.129032    9.130401\n",
      "1            Albania  3516.129032   8252.129032   42.608750\n",
      "2            Algeria  3516.129032  30326.129032   11.594388\n",
      "3            Andorra  3516.129032   4371.129032   80.439836\n",
      "4             Angola  3516.129032   4425.129032   79.458226\n"
     ]
    }
   ],
   "source": [
    "df['Death_Rate'] = (df['Deaths'] / df['Total_cases']) * 100\n",
    "print(\"Dataset with Death_Rate column:\")\n",
    "print(df[['Country/Region', 'Deaths', 'Total_cases', 'Death_Rate']].head())"
   ]
  },
  {
   "cell_type": "markdown",
   "metadata": {},
   "source": [
    "## Task 20: Identify countries where total cases are increasing but death rates remain low"
   ]
  },
  {
   "cell_type": "code",
   "execution_count": 176,
   "metadata": {},
   "outputs": [
    {
     "name": "stdout",
     "output_type": "stream",
     "text": [
      "Countries with increasing cases but low death rates (count: 53):\n",
      "               Country/Region  1_week_%_increase  Death_Rate\n",
      "index                                                       \n",
      "2                     Algeria              18.07   11.594388\n",
      "6                   Argentina              28.02    2.094516\n",
      "8                   Australia              23.13   18.851087\n",
      "10                 Azerbaijan               9.16   10.483662\n",
      "13                 Bangladesh               9.05    1.550485\n",
      "20                    Bolivia              16.71    4.880115\n",
      "21     Bosnia and Herzegovina              23.81   25.627522\n",
      "23                     Brazil              15.28    0.149098\n",
      "25                   Bulgaria              18.95   25.497434\n",
      "37                   Colombia              26.03    1.396175\n"
     ]
    }
   ],
   "source": [
    "\n",
    "# In this task, we can identify countries with:\n",
    "# 1. High 1 week % increase (above median)\n",
    "# 2. Low death rate (below median)\n",
    "\n",
    "# Calculate medians\n",
    "median_week_increase = df['1_week_%_increase'].median()\n",
    "median_death_rate = df['Death_Rate'].median()\n",
    "\n",
    "increasing_low_death = df[(df['1_week_%_increase'] > median_week_increase) & \n",
    "                          (df['Death_Rate'] < median_death_rate)]\n",
    "\n",
    "print(f\"Countries with increasing cases but low death rates (count: {len(increasing_low_death)}):\")\n",
    "print(increasing_low_death[['Country/Region', '1_week_%_increase', 'Death_Rate']].head(10))"
   ]
  },
  {
   "cell_type": "markdown",
   "metadata": {},
   "source": [
    "## Task 21: Print head of only 2 columns Country/Region and Death_Rate"
   ]
  },
  {
   "cell_type": "code",
   "execution_count": 177,
   "metadata": {},
   "outputs": [
    {
     "name": "stdout",
     "output_type": "stream",
     "text": [
      "      Country/Region  Death_Rate\n",
      "index                           \n",
      "0        Afghanistan    9.130401\n",
      "1            Albania   42.608750\n",
      "2            Algeria   11.594388\n",
      "3            Andorra   80.439836\n",
      "4             Angola   79.458226\n"
     ]
    }
   ],
   "source": [
    "\n",
    "death_rate = ['Country/Region', 'Death_Rate']\n",
    "print(df[death_rate].head())\n"
   ]
  },
  {
   "cell_type": "markdown",
   "metadata": {},
   "source": [
    "## Task 22: Create a scatter plot comparing total cases and total deaths"
   ]
  },
  {
   "cell_type": "code",
   "execution_count": 188,
   "metadata": {},
   "outputs": [
    {
     "data": {
      "image/png": "[encoded data removed]",
      "text/plain": [
       "<Figure size 1200x700 with 1 Axes>"
      ]
     },
     "metadata": {},
     "output_type": "display_data"
    }
   ],
   "source": [
    "\n",
    "from adjustText import adjust_text\n",
    "\n",
    "sns.set_style(\"whitegrid\")\n",
    "\n",
    "plt.figure(figsize=(12, 7))\n",
    "\n",
    "# Scatter plot\n",
    "plt.scatter(df['Total_cases'], df['Deaths'], alpha=0.6, color='royalblue', edgecolors='black', linewidth=0.5)\n",
    "\n",
    "plt.title('Total Cases vs Deaths by Country', fontsize=14, fontweight='bold')\n",
    "plt.xlabel('Total Cases', fontsize=12)\n",
    "plt.ylabel('Deaths', fontsize=12)\n",
    "plt.grid(True, linestyle='--', linewidth=0.5, alpha=0.6)\n",
    "\n",
    "# Annotate with better positioning\n",
    "texts = []\n",
    "top_countries = sorted_by_deaths.head(5)['Country/Region'].tolist()\n",
    "for country in top_countries:\n",
    "    country_data = df[df['Country/Region'] == country]\n",
    "    x = country_data['Total_cases'].values[0]\n",
    "    y = country_data['Deaths'].values[0]\n",
    "    \n",
    "    text = plt.annotate(\n",
    "        country, (x, y),\n",
    "        textcoords=\"offset points\",\n",
    "        xytext=(np.random.randint(-40, 40), np.random.randint(10, 40)),  # Randomized spread\n",
    "        ha='center',\n",
    "        fontsize=10, fontweight='bold',\n",
    "        bbox=dict(facecolor='white', edgecolor='black', boxstyle='round,pad=0.3'),\n",
    "        arrowprops=dict(arrowstyle=\"->\", color='black', lw=0.8, alpha=0.8)\n",
    "    )\n",
    "    texts.append(text)\n",
    "\n",
    "# Auto-adjust text to prevent overlap with stronger settings\n",
    "adjust_text(texts, \n",
    "            expand_points=(2.5, 2.5), \n",
    "            expand_text=(1.5, 2.0), \n",
    "            force_text=(0.5, 0.7), \n",
    "            arrowprops=dict(arrowstyle=\"->\", color='black', lw=0.8))\n",
    "\n",
    "plt.tight_layout()\n",
    "plt.show()\n"
   ]
  },
  {
   "cell_type": "markdown",
   "metadata": {},
   "source": [
    "## Task 23: Save dataset in CSV format"
   ]
  },
  {
   "cell_type": "code",
   "execution_count": 189,
   "metadata": {},
   "outputs": [
    {
     "name": "stdout",
     "output_type": "stream",
     "text": [
      "Dataset saved as 'processed_covid_data.csv'\n"
     ]
    }
   ],
   "source": [
    "df.to_csv('processed_covid_data.csv', index=True)\n",
    "print(\"Dataset saved as 'processed_covid_data.csv'\")"
   ]
  }
 ],
 "metadata": {
  "kernelspec": {
   "display_name": "Python 3",
   "language": "python",
   "name": "python3"
  },
  "language_info": {
   "codemirror_mode": {
    "name": "ipython",
    "version": 3
   },
   "file_extension": ".py",
   "mimetype": "text/x-python",
   "name": "python",
   "nbconvert_exporter": "python",
   "pygments_lexer": "ipython3",
   "version": "3.12.2"
  }
 },
 "nbformat": 4,
 "nbformat_minor": 2
}
