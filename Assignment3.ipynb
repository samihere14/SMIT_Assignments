{
 "cells": [
  {
   "cell_type": "markdown",
   "id": "ca543535-a984-4d8c-b493-d49e5ab94606",
   "metadata": {},
   "source": [
    "## Muhammad Sami\n",
    "## Roll No # 333185\n"
   ]
  },
  {
   "cell_type": "code",
   "execution_count": null,
   "id": "21b46553-7620-48b0-8ad1-35652ee638d6",
   "metadata": {},
   "outputs": [],
   "source": [
    "# Get the total purchase amount from the user\n",
    "purchase_amount = float(input(\"Enter the total purchase amount: $ \"))\n",
    "\n",
    "if purchase_amount > 100:\n",
    "    # Calculate the discount (10% of the purchase amount)\n",
    "    discount = purchase_amount * 0.10\n",
    "    # Calculate the final amount after applying the discount\n",
    "    final_amount = purchase_amount - discount\n",
    "\n",
    "    # Display the discount and final amount\n",
    "    print(f\"Discount applied: ${discount:.2f}\")\n",
    "    print(f\"Final amount after discount: ${final_amount:.2f}\")\n",
    "else:\n",
    "    # Display the total purchase amount if no discount is applied\n",
    "    print(f\"No discount applied. Total purchase amount: ${purchase_amount:.2f}\")"
   ]
  },
  {
   "cell_type": "code",
   "execution_count": null,
   "id": "a0081662-809a-4adf-9be5-7ecaf8522b75",
   "metadata": {},
   "outputs": [],
   "source": [
    "fruits = {\n",
    "    \"apple\": 200,\n",
    "    \"banana\": 120,\n",
    "    \"orange\": 180,\n",
    "    \"mango\": 250,\n",
    "    \"cherry\": 400\n",
    "}\n",
    "\n",
    "item = input(\"What do you want? \").strip().lower()\n",
    "\n",
    "if item in fruits:\n",
    "    try:\n",
    "        quantity = int(input(\"How much do you want? \"))\n",
    "        if quantity <= 0:\n",
    "            print(\"Error: Quantity must be a positive number.\")\n",
    "        else:\n",
    "            # Calculate the total amount\n",
    "            total_amount = quantity * fruits[item]\n",
    "\n",
    "            # Apply discount if quantity is 5 or more\n",
    "            if quantity >= 5:\n",
    "                discount = total_amount * 0.15\n",
    "                print(f\"Discount applied: ${discount:.2f}\")\n",
    "                print(f\"Total price after discount: ${total_amount - discount:.2f}\")\n",
    "            else:\n",
    "                print(f\"Total price: ${total_amount:.2f}\")\n",
    "    except ValueError:\n",
    "        print(\"Error: Please enter a valid number for quantity.\")\n",
    "else:\n",
    "    print(\"Sorry, the item is not available. Thank you for visiting!\")"
   ]
  },
  {
   "cell_type": "code",
   "execution_count": null,
   "id": "46b6b31b-0734-46cc-b81f-78bfca50f88d",
   "metadata": {},
   "outputs": [],
   "source": [
    "is_member = True\n",
    "total_amount = 5000\n",
    "\n",
    "if is_member:\n",
    "    # Calculate member discount (20%)\n",
    "    discount = total_amount * 0.20\n",
    "    print(f\"Member discount: ${discount:.2f}\")\n",
    "    print(f\"Total price after member discount: ${total_amount - discount:.2f}\")\n",
    "else:\n",
    "    # Calculate non-member discount (5%)\n",
    "    discount = total_amount * 0.05\n",
    "    print(f\"Non-member discount: ${discount:.2f}\")\n",
    "    print(f\"Total price after discount: ${total_amount - discount:.2f}\")\n",
    "\n",
    "if not is_member:\n",
    "    print(f\"Original total price: ${total_amount:.2f}\")"
   ]
  },
  {
   "cell_type": "code",
   "execution_count": null,
   "id": "fef6958c-4a3d-4d62-8a76-1715a9105bad",
   "metadata": {},
   "outputs": [],
   "source": [
    "is_holiday = True\n",
    "total_amount = 10000\n",
    "\n",
    "if is_holiday:\n",
    "    # Calculate holiday discount (25%)\n",
    "    discount = total_amount * 0.25\n",
    "    print(f\"Holiday discount: ${discount:.2f}\")\n",
    "    print(f\"Total price after holiday discount: ${total_amount - discount:.2f}\")\n",
    "else:\n",
    "    # Calculate regular discount (10%)\n",
    "    discount = total_amount * 0.10\n",
    "    print(f\"Regular discount: ${discount:.2f}\")\n",
    "    print(f\"Total price after discount: ${total_amount - discount:.2f}\")\n",
    "\n",
    "if not is_holiday:\n",
    "    print(f\"Original total price: ${total_amount:.2f}\")"
   ]
  },
  {
   "cell_type": "markdown",
   "id": "93fe827d-c0ad-4fe2-9ea7-3c808fe81967",
   "metadata": {},
   "source": [
    "## Buy-One-Get-One-Free"
   ]
  },
  {
   "cell_type": "code",
   "execution_count": null,
   "id": "865ce828-8bea-4c6c-b502-4033b3f30894",
   "metadata": {},
   "outputs": [],
   "source": [
    "total_items = int(input(\"Enter the number of items: \"))\n",
    "\n",
    "if total_items % 2 == 0:\n",
    "    pay_for = total_items // 2\n",
    "    print(f\"Amount to pay after 'buy one, get one free' offer: {pay_for}\")\n",
    "else:\n",
    "    print(f\"Amount to pay: {total_items}\")"
   ]
  },
  {
   "cell_type": "markdown",
   "id": "aab05ca4-b7fe-40a0-a036-3f6e5f71a558",
   "metadata": {},
   "source": [
    "# B- Tax Calculations"
   ]
  },
  {
   "cell_type": "markdown",
   "id": "987a042f-7d85-46f7-8a6c-b5774d69f412",
   "metadata": {},
   "source": [
    "## 6. Sales Tax"
   ]
  },
  {
   "cell_type": "code",
   "execution_count": null,
   "id": "3dc88190-314e-4b4f-b897-2e424bbff749",
   "metadata": {},
   "outputs": [],
   "source": [
    "item_price=int(input(\"Enter the Price of an item: $\"))\n",
    "if item_price>500:\n",
    "    sale_tax=item_price*0.15\n",
    "    print(f\"The Price of luxury tax :{sale_tax}\")\n",
    "    print(f\"The Price of item after luxury tax :{item_price-sale_tax}$\")\n",
    "else:\n",
    "    sale_tax=item_price*0.08\n",
    "    print(f\"The Price of standard Tax :{sale_tax}$\")\n",
    "    print(f\"The Price of item after standard Tax :{item_price-sale_tax}$\")"
   ]
  },
  {
   "cell_type": "markdown",
   "id": "b8f670f5-d22f-4254-9d66-2dd7621eef74",
   "metadata": {},
   "source": [
    "## 7. Income Tax"
   ]
  },
  {
   "cell_type": "code",
   "execution_count": null,
   "id": "1d0ac2ed-c385-4470-bd5a-6a69395c47c7",
   "metadata": {},
   "outputs": [],
   "source": [
    "Annual_income=int(input(\"Enter the Price of an item: $\"))\n",
    "if Annual_income>50000:\n",
    "    income_tax=Annual_income*0.20\n",
    "    print(f\"The Price of income tax :{income_tax}\")\n",
    "    print(f\"The Price of item after luxury tax :{Annual_income-income_tax}$\")\n",
    "else:\n",
    "    income_tax=Annual_income*0.10\n",
    "    print(f\"The Price of standard Tax :{income_tax}$\")\n",
    "    print(f\"The Price of item after standard Tax :{Annual_income-income_tax}$\")"
   ]
  },
  {
   "cell_type": "markdown",
   "id": "75756594-795d-4803-83c3-c2c59367fd73",
   "metadata": {},
   "source": [
    "## 8. Tax Bracket"
   ]
  },
  {
   "cell_type": "code",
   "execution_count": null,
   "id": "86c0beae-f596-4a60-9a95-c4d54950dee3",
   "metadata": {},
   "outputs": [],
   "source": [
    "Annual_income=int(input(\"Enter the Annual Income\"))\n",
    "if Annual_income<30000:\n",
    "   tax_bracket =\"Low Tax\"\n",
    "elif 30000<=Annual_income<100000:\n",
    "   tax_bracket =\"Medium Tax\"\n",
    "else:\n",
    "    tax_bracket =\"High Tax\"\n",
    "print(f\"The Person Tax bracket is :{tax_bracket}\")"
   ]
  },
  {
   "cell_type": "markdown",
   "id": "0f47e3b3-1641-4f79-8c91-7839c5f933dd",
   "metadata": {},
   "source": [
    "## 9. VAT Calculation"
   ]
  },
  {
   "cell_type": "code",
   "execution_count": null,
   "id": "4a8326a4-3281-4957-a4dd-7e979b5e4669",
   "metadata": {},
   "outputs": [],
   "source": [
    "Is_Essential={\"face wash\":400,\"soap\":200,\"tooth brush\":150}\n",
    "item=input(\"Enter product name:\")\n",
    "\n",
    "if item in Is_Essential:\n",
    "    print(f\"\")\n",
    "else:\n",
    "    print(f\"10%\")\n"
   ]
  },
  {
   "cell_type": "markdown",
   "id": "1d91f952-e36d-4f6d-9d37-d4a58b7c7a78",
   "metadata": {},
   "source": [
    "## 10. Tax-Free Day"
   ]
  },
  {
   "cell_type": "code",
   "execution_count": null,
   "id": "f5090567-6109-494d-94d9-a81d087b60c8",
   "metadata": {},
   "outputs": [],
   "source": [
    "price=200\n",
    "tax_free_day=False\n",
    "if tax_free_day:\n",
    "    final_price=price\n",
    "else:\n",
    "    final_price=price*1.07\n",
    "    \n",
    "print(f\"The final price is:{final_price}\")"
   ]
  },
  {
   "cell_type": "markdown",
   "id": "c284913c-b600-4314-85a2-876d676ba5fc",
   "metadata": {},
   "source": [
    "# C- Shopping and Billing"
   ]
  },
  {
   "cell_type": "markdown",
   "id": "712c1b7b-09e6-466f-919a-aff56c360163",
   "metadata": {},
   "source": [
    "## 11. Free Shipping"
   ]
  },
  {
   "cell_type": "code",
   "execution_count": null,
   "id": "95cbb0ea-c20a-4f7a-bf1c-e33d4457b448",
   "metadata": {},
   "outputs": [],
   "source": [
    "Purchase_amount=int(input(\"Enter the Total Purchase amount:$\"))\n",
    "if Purchase_amount>=50:\n",
    "    shipping_cost=0\n",
    "    \n",
    "else:\n",
    "    shipping_cost=5\n",
    "total_price=Purchase_amount+shipping_cost\n",
    "print(f\"The total amount:{total_price}$\")"
   ]
  },
  {
   "cell_type": "markdown",
   "id": "b1977fa9-4b38-4c55-bc3a-4da5b978065f",
   "metadata": {},
   "source": [
    "# 12. Discount Code"
   ]
  },
  {
   "cell_type": "code",
   "execution_count": null,
   "id": "ad699c89-3fc5-4220-b6fe-31cce0e7772a",
   "metadata": {},
   "outputs": [],
   "source": [
    "total_amount=int(input(\"Enter the purchase Amount\"))\n",
    "Discount_Code=input(\"Enter Discount Code\")\n",
    "if Discount_Code==\"DISCOUNT10\":\n",
    "    Discount_Amount=total_amount*0.10\n",
    "    print(f\"The amount after Discount :{total_amount-Discount_Amount}\")\n",
    "else:\n",
    "    total_amount=total_amount\n",
    "print(f\"The total amount is:{total_amount}\")"
   ]
  },
  {
   "cell_type": "markdown",
   "id": "4150f910-1cf1-4db7-b29c-ae408e4e6547",
   "metadata": {},
   "source": [
    "## 13. Tiered Discounts\n",
    "Apply discounts based on the total price:\n",
    " $0–$50: No discount.\n",
    " $50–$100: 10% discount.\n",
    " Over $100: 20% discount."
   ]
  },
  {
   "cell_type": "code",
   "execution_count": null,
   "id": "973d5252-1993-4544-927d-5d6a0480bf6c",
   "metadata": {},
   "outputs": [],
   "source": [
    "total_price=int(input(\"Enter the Total Price\"))\n",
    "if 0<=total_price<=50:\n",
    "    discount_rate=0\n",
    "elif 50<total_price<=100:\n",
    "    discount_rate=0.10\n",
    "else:\n",
    "    discount_rate=0.20\n",
    "discount_amount=total_price*discount_rate\n",
    "final_amount=total_price-discount_amount\n",
    "print(f\"The Original Price:${total_price:.2f}\")\n",
    "print(f\"The Discount Price:${discount_amount:.2f}\")\n",
    "print(f\"The Final Price after Discount:${final_amount:.2f}\")"
   ]
  },
  {
   "cell_type": "markdown",
   "id": "724adac5-185b-4182-ab56-5b87a0babe93",
   "metadata": {},
   "source": [
    "## 14. Minimum Purchase Requirement"
   ]
  },
  {
   "cell_type": "code",
   "execution_count": null,
   "id": "5a24b672-c9b2-4cae-abf2-94c2a9b3696e",
   "metadata": {},
   "outputs": [],
   "source": [
    "total_amount=int(input(\"Enter the purchase amount\"))\n",
    "if total_amount<20:\n",
    "    print(\"Minimum purchase of $20 isrequired.\")\n",
    "else:\n",
    "    print(f\"The total purchase amount:{total_amount}$\")"
   ]
  },
  {
   "cell_type": "markdown",
   "id": "553c01bc-8ce6-44cc-817f-7d4489acc4c7",
   "metadata": {},
   "source": [
    "## 15. Loyalty Points"
   ]
  },
  {
   "cell_type": "code",
   "execution_count": null,
   "id": "976794b3-c542-4bfc-b8d2-472bb23d3cf5",
   "metadata": {},
   "outputs": [],
   "source": [
    "purchase_amount=int(input(\"Enter the purchase Amount\"))\n",
    "Standard_Point=1\n",
    "is_loyal=False\n",
    "if is_loyal:\n",
    "    loyalty_points=purchase_amount*(Standard_Point*2)\n",
    "else:\n",
    "    loyalty_points=purchase_amount*Standard_Point\n",
    "print(f\"The customer earned {loyalty_points} loyalty points\")"
   ]
  },
  {
   "cell_type": "markdown",
   "id": "605bc3f5-d4bf-44e6-950a-ec20219af4c9",
   "metadata": {},
   "source": [
    "# D- Travel and Tickets"
   ]
  },
  {
   "cell_type": "markdown",
   "id": "e6fc8fc4-d53f-4a49-a524-cb42c1d60b92",
   "metadata": {},
   "source": [
    "## 16. Travel Discount"
   ]
  },
  {
   "cell_type": "code",
   "execution_count": null,
   "id": "2dd6a629-955f-4898-9d96-fade1efbf9c8",
   "metadata": {},
   "outputs": [],
   "source": [
    "ticket_price=int(input(\"Enter the Price of ticket\"))\n",
    "distance=int(input(\"Enter the distance that they want to travel\"))\n",
    "if distance>=500:\n",
    "    discount=0.20\n",
    "    final_price=ticket_price*(1-discount)\n",
    "    \n",
    "    print(f\"the discount price:{discount*ticket_price}\")\n",
    "    print(f\"The total Expense of travel is {final_price}\")\n",
    "else:\n",
    "    final_price=ticket_price\n",
    "\n",
    "    print(f\"The total Expense of travel is {final_price}\")\n",
    "    "
   ]
  },
  {
   "cell_type": "markdown",
   "id": "e2c15fe1-511f-4143-a6d0-76914f2f6af4",
   "metadata": {},
   "source": [
    "## 17. Child or Senior Discount"
   ]
  },
  {
   "cell_type": "code",
   "execution_count": null,
   "id": "de7d5be4-7ae4-4d4d-bd92-f09f6bb8ecd5",
   "metadata": {},
   "outputs": [],
   "source": [
    "passenger_age=int(input(\"Enter the age of Customer :\"))\n",
    "Ticket_Price=1000\n",
    "if passenger_age<12 or passenger_age>60:\n",
    "    discount=0.15\n",
    "    final_price=Ticket_Price*(1-discount)\n",
    "    print(f\"The Discount Price is:{Ticket_Price*discount}\")\n",
    "else:\n",
    "    final_price=Ticket_Price\n",
    "print(f\"The Final Ticket Price is:{final_price}\")\n",
    "    "
   ]
  },
  {
   "cell_type": "markdown",
   "id": "f8f8e8a9-5226-4b0a-a4aa-e6c1c3d4c7eb",
   "metadata": {},
   "source": [
    "## 18. Ticket Type Pricing"
   ]
  },
  {
   "cell_type": "code",
   "execution_count": null,
   "id": "f5e2c1ee-dbb3-474f-8709-0f0e1c5b3066",
   "metadata": {},
   "outputs": [],
   "source": [
    "Ticket_Price=int(input(\"Enter the Price of Ticket\"))\n",
    "Weekan_ticket=True\n",
    "if Weekan_ticket:\n",
    "    surcharge=0.10\n",
    "    final_price=Ticket_Price*(1+surcharge)\n",
    "else:\n",
    "    final_price=Ticket_Price\n",
    "print(f\"The price of ticket is:{final_price}\")"
   ]
  },
  {
   "cell_type": "markdown",
   "id": "64122d9d-bad0-4d7e-aa16-ee29b4a68c13",
   "metadata": {},
   "source": [
    "## 19. Baggage Fee"
   ]
  },
  {
   "cell_type": "code",
   "execution_count": null,
   "id": "52de55ab-770a-427c-885a-213c545c4ac5",
   "metadata": {},
   "outputs": [],
   "source": [
    "weight=int(input(\"Enter weight (in kg):\"))\n",
    "product_price=int(input(\"Enter the price of product\"))\n",
    "charge=10\n",
    "Allow_Max_Weight=20\n",
    "if weight>Allow_Max_Weight:\n",
    "    Extra_weight=weight-Allow_Max_Weight\n",
    "    Extra_charge=Extra_weight*charge\n",
    "else:\n",
    "    Extra_charge=0\n",
    "print(f\"The extra Fee for Extra Weigh:{Extra_charge}\")"
   ]
  },
  {
   "cell_type": "markdown",
   "id": "b9f42663-3280-4899-ac06-d55ff5b88149",
   "metadata": {},
   "source": [
    "## 20. Early Bird Discount"
   ]
  },
  {
   "cell_type": "code",
   "execution_count": null,
   "id": "940c02a5-8b82-40df-af7d-15cc137a3b90",
   "metadata": {},
   "outputs": [],
   "source": [
    "Booking_Date=int(input(\"Enter the date of booking\"))\n",
    "Ticket_price=int(input(\"Enter the price of ticket\"))\n",
    "if Booking_Date>=30:\n",
    "    discount=0.10\n",
    "    final_price=Ticket_price*(1-discount)\n",
    "else:\n",
    "    final_price=Ticket_price\n",
    "print(f\"The Discount Price of Ticket:{Ticket_price-final_price}\")\n",
    "print(f\"The Final Price of Ticket:{final_price}\")"
   ]
  },
  {
   "cell_type": "markdown",
   "id": "260fd274-5c0b-4b7c-81fa-34ea97ad9e44",
   "metadata": {},
   "source": [
    "# E- Grades and Performance"
   ]
  },
  {
   "cell_type": "markdown",
   "id": "b13488ae-fb0d-4e61-b145-3197447017f3",
   "metadata": {},
   "source": [
    "## 21. Pass or Fail"
   ]
  },
  {
   "cell_type": "code",
   "execution_count": null,
   "id": "9b5b5d5c-ac58-433b-97bf-33ad46769ac2",
   "metadata": {},
   "outputs": [],
   "source": [
    "Score=int(input(\"Enter the Score of the Student\"))\n",
    "if Score>40:\n",
    "    Grade=\"Pass\"\n",
    "else:\n",
    "    Grade=\"Fail\"\n",
    "print(f\"You Are:{Grade}\")"
   ]
  },
  {
   "cell_type": "markdown",
   "id": "4faa054c-aee5-4a72-ab2c-f05a96d4223f",
   "metadata": {},
   "source": [
    "## 22. Grade Assignment"
   ]
  },
  {
   "cell_type": "code",
   "execution_count": null,
   "id": "c969aefe-7112-4590-92e0-e569241d6321",
   "metadata": {},
   "outputs": [],
   "source": [
    "student_Score=int(input(\"Enter the Marks of the Student\"))\n",
    "if student_Score>=90:\n",
    "    Grade=\"A\"\n",
    "elif 75<= student_Score<90:\n",
    "    Grade=\"B\"\n",
    "elif 50<= student_Score<75:\n",
    "    Grade=\"C\"\n",
    "else:\n",
    "    Grade=\"F\"\n",
    "print(f\"The Student Acheive:{Grade} Grade\")"
   ]
  },
  {
   "cell_type": "markdown",
   "id": "08f6e60c-5a7a-43de-a5e5-f909bdefa344",
   "metadata": {},
   "source": [
    "## Bonus Marks"
   ]
  },
  {
   "cell_type": "code",
   "execution_count": null,
   "id": "9d5aaff3-5c82-43a1-a38a-27a8153e70f8",
   "metadata": {},
   "outputs": [],
   "source": [
    "student_Score=int(input(\"Enter the Marks of the Student\"))\n",
    "Assignment_Complete=False\n",
    "if Assignment_Complete:\n",
    "    Bonus_Marks=5\n",
    "    Total_Marks=student_Score+Bonus_Marks\n",
    "else:\n",
    "    Bonus_Marks=0\n",
    "    Total_Marks=student_Score+Bonus_Marks\n",
    "print(f\"The Total Marks of the Student:{Total_Marks}\")"
   ]
  },
  {
   "cell_type": "markdown",
   "id": "0935149a-223c-46f9-8d48-4be9b0497658",
   "metadata": {},
   "source": [
    "## 24. Attendance Eligibility"
   ]
  },
  {
   "cell_type": "code",
   "execution_count": null,
   "id": "32789b2e-a0df-40cd-b7f8-3a2e261c81a5",
   "metadata": {},
   "outputs": [],
   "source": [
    "student_attendance=int(input(\"Enter the Attendance of the Student:\"))\n",
    "if student_attendance>=75:\n",
    "    comment=\"You're Eligible to take the Exams\"\n",
    "else:\n",
    "    comment=\"You're not Eligible to take the Exams\"\n",
    "print(f\"{comment}\")"
   ]
  },
  {
   "cell_type": "markdown",
   "id": "e027e0d9-b95b-44c5-9c6c-ebdf61f5bbf1",
   "metadata": {},
   "source": [
    "## 25. Scholarship Eligibility"
   ]
  },
  {
   "cell_type": "code",
   "execution_count": null,
   "id": "e5efde70-a42f-48b4-8fa2-e3deab79e658",
   "metadata": {},
   "outputs": [],
   "source": [
    "Student_Grade=input(\"Enter the Grade of Student\")\n",
    "Monthly_Income=int(input(\"Enter the Monthly income of Family\"))\n",
    "if Student_Grade==\"A\" and Monthly_Income<40000:\n",
    "    eligibility = \"You're Eligible for Scholarship\"\n",
    "else:\n",
    "    eligibility = \"You're Not Eligible for Scholarship\"\n",
    "print(f\"The Student is: {eligibility}\")"
   ]
  }
 ],
 "metadata": {
  "kernelspec": {
   "display_name": "Python 3",
   "language": "python",
   "name": "python3"
  },
  "language_info": {
   "codemirror_mode": {
    "name": "ipython",
    "version": 3
   },
   "file_extension": ".py",
   "mimetype": "text/x-python",
   "name": "python",
   "nbconvert_exporter": "python",
   "pygments_lexer": "ipython3",
   "version": "3.12.2"
  }
 },
 "nbformat": 4,
 "nbformat_minor": 5
}
